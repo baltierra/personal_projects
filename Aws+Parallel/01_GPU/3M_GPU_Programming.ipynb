{
  "cells": [
    {
      "attachments": {},
      "cell_type": "markdown",
      "metadata": {
        "id": "5fCEDCU_qrC0"
      },
      "source": [
        "## GPU Programming with Numba and CuPy\n",
        "### Estimating Pi with Monte Carlo Simulation\n",
        "\n",
        "First taking a look at the hardware we have available to work with:"
      ]
    },
    {
      "cell_type": "code",
      "execution_count": 1,
      "metadata": {
        "colab": {
          "base_uri": "https://localhost:8080/"
        },
        "id": "aqQOzobAMTla",
        "outputId": "67f08e97-96f3-472f-cac3-c331122b35fa"
      },
      "outputs": [
        {
          "name": "stdout",
          "output_type": "stream",
          "text": [
            "Wed Mar 29 15:02:37 2023       \n",
            "+-----------------------------------------------------------------------------+\n",
            "| NVIDIA-SMI 525.85.12    Driver Version: 525.85.12    CUDA Version: 12.0     |\n",
            "|-------------------------------+----------------------+----------------------+\n",
            "| GPU  Name        Persistence-M| Bus-Id        Disp.A | Volatile Uncorr. ECC |\n",
            "| Fan  Temp  Perf  Pwr:Usage/Cap|         Memory-Usage | GPU-Util  Compute M. |\n",
            "|                               |                      |               MIG M. |\n",
            "|===============================+======================+======================|\n",
            "|   0  Tesla T4            Off  | 00000000:00:04.0 Off |                    0 |\n",
            "| N/A   65C    P8    11W /  70W |      0MiB / 15360MiB |      0%      Default |\n",
            "|                               |                      |                  N/A |\n",
            "+-------------------------------+----------------------+----------------------+\n",
            "                                                                               \n",
            "+-----------------------------------------------------------------------------+\n",
            "| Processes:                                                                  |\n",
            "|  GPU   GI   CI        PID   Type   Process name                  GPU Memory |\n",
            "|        ID   ID                                                   Usage      |\n",
            "|=============================================================================|\n",
            "|  No running processes found                                                 |\n",
            "+-----------------------------------------------------------------------------+\n"
          ]
        }
      ],
      "source": [
        "!nvidia-smi"
      ]
    },
    {
      "attachments": {},
      "cell_type": "markdown",
      "metadata": {
        "id": "Z7_272Nn5NU7"
      },
      "source": [
        "Serially, we can solve this problem in `numpy` like so (generating 100m coordinates in a unit square and identifying whether they fall in a unit circle or not):"
      ]
    },
    {
      "cell_type": "code",
      "execution_count": 2,
      "metadata": {
        "colab": {
          "base_uri": "https://localhost:8080/"
        },
        "id": "T9yPcgxt7-bs",
        "outputId": "0482fe33-666b-4449-d8d4-96c1e5228349"
      },
      "outputs": [
        {
          "name": "stdout",
          "output_type": "stream",
          "text": [
            "Pi Estimate:  3.141506\n",
            "Time Elapsed:  2.7714076042175293\n"
          ]
        }
      ],
      "source": [
        "# NumPy Pi Estimation with Monte Carlo Simulation\n",
        "import numpy as np\n",
        "import time\n",
        "\n",
        "t0 = time.time()\n",
        "\n",
        "n_runs = 10 ** 8\n",
        "\n",
        "# Simulate Random Coordinates in Unit Square:\n",
        "ran = np.random.uniform(low=-1, high=1, size=(2, n_runs))\n",
        "\n",
        "# Identify Random Coordinates that fall within Unit Circle and count them\n",
        "result = ran[0] ** 2 + ran[1] ** 2 <= 1\n",
        "n_in_circle = np.sum(result)\n",
        "\n",
        "# Estimate Pi\n",
        "print(\"Pi Estimate: \", 4 * n_in_circle / n_runs)\n",
        "\n",
        "print(\"Time Elapsed: \", time.time() - t0)"
      ]
    },
    {
      "attachments": {},
      "cell_type": "markdown",
      "metadata": {
        "id": "3KNBM2QC_0Ys"
      },
      "source": [
        "### Vectorization on GPUs with `numba`"
      ]
    },
    {
      "cell_type": "code",
      "execution_count": 3,
      "metadata": {
        "id": "83C_SSyPiWoV"
      },
      "outputs": [],
      "source": [
        "from numba import vectorize, cuda\n",
        "from numba.core.errors import NumbaPerformanceWarning\n",
        "import warnings\n",
        "warnings.simplefilter('ignore', category=NumbaPerformanceWarning)\n",
        "\n",
        "n_runs = 10**8\n",
        "ran = np.random.uniform(low=-1, high =1, size=(2, n_runs)).astype(np.float32)\n",
        "x, y = ran[0], ran[1]\n",
        "\n",
        "@vectorize(['i4(f4, f4)'], target='cuda')\n",
        "def in_circle(x, y):\n",
        "  '''\n",
        "  Vectorized function takes in x, y coordinates (float32, float32) within an\n",
        "  array and returns a boolean indication of whether these values are (1) or\n",
        "  are not (0) in the unit circle (cast as int32). \n",
        "  \n",
        "  All computation is done on the GPU.\n",
        "  '''\n",
        "  in_circle = x**2 + y**2 <= 1\n",
        "  return in_circle\n",
        "\n",
        "@cuda.reduce\n",
        "def gpu_sum(a, b):\n",
        "  '''\n",
        "  Sums values in an array together on the GPU, using numba's built-in\n",
        "  `reduce` algorithm.\n",
        "  '''\n",
        "  return a + b"
      ]
    },
    {
      "attachments": {},
      "cell_type": "markdown",
      "metadata": {
        "id": "C8WySv_eC27e"
      },
      "source": [
        "First, we might try to only perform the mapping operation on the GPU (passing the x and y arrays over to the GPU, computing whether the random coordinates are in the unit circle or not, and then sending values back to the CPU to sum and estimate pi):"
      ]
    },
    {
      "cell_type": "code",
      "execution_count": 4,
      "metadata": {
        "colab": {
          "base_uri": "https://localhost:8080/"
        },
        "id": "yptujAnIxrTI",
        "outputId": "67515d58-d644-42a8-f664-6911ebca0344"
      },
      "outputs": [
        {
          "name": "stdout",
          "output_type": "stream",
          "text": [
            "343 ms ± 16.5 ms per loop (mean ± std. dev. of 7 runs, 1 loop each)\n"
          ]
        }
      ],
      "source": [
        "%%timeit\n",
        "result = in_circle(x, y) # send numpy arrays x & y to GPU and perform in_circle computation on GPU\n",
        "4 * np.sum(result) / n_runs # send resulting array back to CPU to compute pi using `numpy`"
      ]
    },
    {
      "attachments": {},
      "cell_type": "markdown",
      "metadata": {
        "id": "mDbMYIDMC5Rs"
      },
      "source": [
        "Can also perform the summation on the GPU..."
      ]
    },
    {
      "cell_type": "code",
      "execution_count": 5,
      "metadata": {
        "colab": {
          "base_uri": "https://localhost:8080/"
        },
        "id": "06KXRiQptIyO",
        "outputId": "a34c44df-d5c2-4ac3-eb46-2487d7e09af3"
      },
      "outputs": [
        {
          "name": "stdout",
          "output_type": "stream",
          "text": [
            "286 ms ± 23.3 ms per loop (mean ± std. dev. of 7 runs, 1 loop each)\n"
          ]
        }
      ],
      "source": [
        "%%timeit\n",
        "result = in_circle(x, y)\n",
        "4 * gpu_sum(result) / n_runs # perform sum on GPU this time and then only two scalar ops on CPU"
      ]
    },
    {
      "attachments": {},
      "cell_type": "markdown",
      "metadata": {
        "id": "mlvU-5ftC6Xv"
      },
      "source": [
        "And store intermediate results on the GPU (`result` is currently being sent back to CPU):"
      ]
    },
    {
      "cell_type": "code",
      "execution_count": 7,
      "metadata": {
        "colab": {
          "base_uri": "https://localhost:8080/"
        },
        "id": "e-Lx56b2tPeM",
        "outputId": "a11cb6fa-350f-4700-a9ad-2847bb88dccc"
      },
      "outputs": [
        {
          "name": "stdout",
          "output_type": "stream",
          "text": [
            "206 ms ± 31.2 ms per loop (mean ± std. dev. of 7 runs, 1 loop each)\n"
          ]
        }
      ],
      "source": [
        "%%timeit\n",
        "# Slight improvement by keeping intermediate result on GPU, but not to the\n",
        "# degree of custom CUDA kernel.\n",
        "in_circle_dev = cuda.device_array(shape=(n_runs,), dtype=np.float32) # allocate spot in memory on GPU for output array to live\n",
        "in_circle(x, y, out=in_circle_dev) # write results of `in_circle` out to spot in memory allocated to `in_circle_dev`\n",
        "4 * gpu_sum(in_circle_dev) / n_runs"
      ]
    }
  ],
  "metadata": {
    "accelerator": "GPU",
    "colab": {
      "provenance": []
    },
    "kernelspec": {
      "display_name": "Python 3",
      "name": "python3"
    }
  },
  "nbformat": 4,
  "nbformat_minor": 0
}
