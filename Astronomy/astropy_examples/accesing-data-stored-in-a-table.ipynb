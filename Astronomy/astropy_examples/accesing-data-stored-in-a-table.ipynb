{
 "cells": [
  {
   "cell_type": "markdown",
   "metadata": {},
   "source": [
    "## Accesing data stored as a table in a multi-extension FITS (MEF) file\n",
    "\n",
    "FITS files can often contain large amount of multi-dimendional data an tables. This example opens aFITS file with information from Chandra's HETG-S instrument.\n",
    "\n",
    "This example uses:\n",
    "- `astropy.utils.data` to download multi-extension FITS (MEF) file.\n",
    "- `astropy.io.fits` to invetigate the header.\n",
    "- `astropy.table.Table` to explore the data."
   ]
  },
  {
   "cell_type": "markdown",
   "metadata": {},
   "source": [
    "##### **1. Import the proper packages**\n",
    "\n",
    "Use `astropy.utils.data` subpackage to download the FITS file used in this example. Also import `Table` from the `astropy.table` subpackage and `astropy.io.fits`."
   ]
  },
  {
   "cell_type": "code",
   "execution_count": 1,
   "metadata": {},
   "outputs": [],
   "source": [
    "from astropy.io import fits\n",
    "from astropy.table import Table\n",
    "from astropy.utils.data import get_pkg_data_filename"
   ]
  },
  {
   "cell_type": "markdown",
   "metadata": {},
   "source": [
    "##### **2. Download a FITS file**"
   ]
  },
  {
   "cell_type": "code",
   "execution_count": 2,
   "metadata": {},
   "outputs": [],
   "source": [
    "event_filename = get_pkg_data_filename('tutorials/FITS-tables/chandra_events.fits')"
   ]
  },
  {
   "cell_type": "markdown",
   "metadata": {},
   "source": [
    "##### **3. Display information about the contents of the FITS file**"
   ]
  },
  {
   "cell_type": "code",
   "execution_count": 3,
   "metadata": {},
   "outputs": [
    {
     "name": "stdout",
     "output_type": "stream",
     "text": [
      "Filename: /Users/fabs/.astropy/cache/download/url/333246bccb141ea3b4e86c49e45bf8d6/contents\n",
      "No.    Name      Ver    Type      Cards   Dimensions   Format\n",
      "  0  PRIMARY       1 PrimaryHDU      30   ()      \n",
      "  1  EVENTS        1 BinTableHDU    890   483964R x 19C   [1D, 1I, 1I, 1J, 1I, 1I, 1I, 1I, 1E, 1E, 1E, 1E, 1J, 1J, 1E, 1J, 1I, 1I, 32X]   \n",
      "  2  GTI           3 BinTableHDU     28   1R x 2C   [1D, 1D]   \n",
      "  3  GTI           2 BinTableHDU     28   1R x 2C   [1D, 1D]   \n",
      "  4  GTI           1 BinTableHDU     28   1R x 2C   [1D, 1D]   \n",
      "  5  GTI           0 BinTableHDU     28   1R x 2C   [1D, 1D]   \n",
      "  6  GTI           6 BinTableHDU     28   1R x 2C   [1D, 1D]   \n"
     ]
    }
   ],
   "source": [
    "fits.info(event_filename)"
   ]
  },
  {
   "cell_type": "markdown",
   "metadata": {},
   "source": [
    "Extension 1, `EVENTS`, is a Table that contains information about each X-ray photon that hit Chandrás HETG-S detector.\n",
    "\n",
    "Now we use `Table` to read the table."
   ]
  },
  {
   "cell_type": "code",
   "execution_count": 4,
   "metadata": {},
   "outputs": [],
   "source": [
    "events = Table.read(event_filename, hdu=1)"
   ]
  },
  {
   "cell_type": "markdown",
   "metadata": {},
   "source": [
    "Let's print the column names of the Events Table:"
   ]
  },
  {
   "cell_type": "code",
   "execution_count": 7,
   "metadata": {},
   "outputs": [
    {
     "name": "stdout",
     "output_type": "stream",
     "text": [
      "<TableColumns names=('time','ccd_id','node_id','expno','chipx','chipy','tdetx','tdety','detx','dety','x','y','pha','pha_ro','energy','pi','fltgrade','grade','status')>\n"
     ]
    }
   ],
   "source": [
    "print(events.columns)"
   ]
  },
  {
   "cell_type": "markdown",
   "metadata": {},
   "source": [
    "If a column contains measuring unit information, it will have an associated `astropy.units` object."
   ]
  },
  {
   "cell_type": "code",
   "execution_count": 8,
   "metadata": {},
   "outputs": [
    {
     "name": "stdout",
     "output_type": "stream",
     "text": [
      "eV\n"
     ]
    }
   ],
   "source": [
    "print(events['energy'].unit)"
   ]
  },
  {
   "cell_type": "markdown",
   "metadata": {},
   "source": [
    "If we want to print the data stored in a colum we use (in this case we are using `Energy` column):"
   ]
  },
  {
   "cell_type": "code",
   "execution_count": 9,
   "metadata": {},
   "outputs": [
    {
     "name": "stdout",
     "output_type": "stream",
     "text": [
      "  energy \n",
      "    eV   \n",
      "---------\n",
      "13874.715\n",
      "2621.1938\n",
      "12119.018\n",
      "3253.0364\n",
      "14214.382\n",
      "1952.7239\n",
      "3267.5334\n",
      "3817.0366\n",
      "2252.7295\n",
      "6154.1094\n",
      "      ...\n",
      "4819.8286\n",
      "12536.866\n",
      "2599.5652\n",
      "15535.768\n",
      "6653.0815\n",
      "14362.482\n",
      "14653.954\n",
      " 6652.827\n",
      " 9672.882\n",
      "1875.9359\n",
      "Length = 483964 rows\n"
     ]
    }
   ],
   "source": [
    "print(events['energy'])"
   ]
  }
 ],
 "metadata": {
  "kernelspec": {
   "display_name": "base",
   "language": "python",
   "name": "python3"
  },
  "language_info": {
   "codemirror_mode": {
    "name": "ipython",
    "version": 3
   },
   "file_extension": ".py",
   "mimetype": "text/x-python",
   "name": "python",
   "nbconvert_exporter": "python",
   "pygments_lexer": "ipython3",
   "version": "3.10.9"
  }
 },
 "nbformat": 4,
 "nbformat_minor": 2
}
