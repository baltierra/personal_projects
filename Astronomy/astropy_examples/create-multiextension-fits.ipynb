{
 "cells": [
  {
   "cell_type": "markdown",
   "metadata": {},
   "source": [
    "## Create a multi-extension FITS (MEF) file from scratch\n",
    "\n",
    "This example, taken from `astropy.org`, demonstrates how to create a multi-extension FITS (MEF) file from scratch using `astropy.io.fits`."
   ]
  },
  {
   "cell_type": "markdown",
   "metadata": {},
   "source": [
    "##### 1. Load the necessary packages"
   ]
  },
  {
   "cell_type": "code",
   "execution_count": 34,
   "metadata": {},
   "outputs": [],
   "source": [
    "import os\n",
    "from astropy.io import fits"
   ]
  },
  {
   "cell_type": "markdown",
   "metadata": {},
   "source": [
    "##### 2. Create HDUList objects\n",
    "`HDUList` objects are used to hold all the *HDUs* in a FITS file. An *HDU* (Header Data Unit) is the highest level component of the FITS file structure, consisting of a header and (tipically) a data array or table. When you open a FITS file `hdu[0]` is the primary HDU, `hdu[1]` is the first extension HDU (if there are any extensions), and so on. The `HDUList` class is a subclass of Python's builtin `list` and can be created from scratch. For example, to create a FITS file with three extensions:"
   ]
  },
  {
   "cell_type": "code",
   "execution_count": 35,
   "metadata": {},
   "outputs": [],
   "source": [
    "new_hdul = fits.HDUList()\n",
    "new_hdul.append(fits.ImageHDU())\n",
    "new_hdul.append(fits.ImageHDU())\n",
    "new_hdul.append(fits.ImageHDU())"
   ]
  },
  {
   "cell_type": "markdown",
   "metadata": {},
   "source": [
    "Note that the first `new_hdul.append(fits.ImageHDU())` was added to the  FITS file as the PRIMARY HDU, as we can see below when displaying the FITS file structure."
   ]
  },
  {
   "cell_type": "markdown",
   "metadata": {},
   "source": [
    "Write out the new FITS file to disk and display its structure:"
   ]
  },
  {
   "cell_type": "code",
   "execution_count": 36,
   "metadata": {},
   "outputs": [
    {
     "name": "stdout",
     "output_type": "stream",
     "text": [
      "Filename: test.fits\n",
      "No.    Name      Ver    Type      Cards   Dimensions   Format\n",
      "  0  PRIMARY       1 PrimaryHDU       4   ()      \n",
      "  1                1 ImageHDU         5   ()      \n",
      "  2                1 ImageHDU         5   ()      \n"
     ]
    }
   ],
   "source": [
    "new_hdul.writeto('test.fits')\n",
    "fits.info('test.fits')"
   ]
  },
  {
   "cell_type": "markdown",
   "metadata": {},
   "source": [
    "Alternatively, the HDU instances can be created first (or read from an existing FITS file).\n",
    "\n",
    "LEt's create a multi-extension FITS file with one empty IMAGE extension, and one empty TABLE extension. We have to create the PRIMARY HDU as in `hdu1` (we use `overwrite=True` to overwrite the file if already exists):"
   ]
  },
  {
   "cell_type": "code",
   "execution_count": 37,
   "metadata": {},
   "outputs": [
    {
     "name": "stdout",
     "output_type": "stream",
     "text": [
      "Filename: test.fits\n",
      "No.    Name      Ver    Type      Cards   Dimensions   Format\n",
      "  0  PRIMARY       1 PrimaryHDU       4   ()      \n",
      "  1                1 ImageHDU         5   ()      \n",
      "  2                1 TableHDU         8   0R x 0C   []   \n"
     ]
    }
   ],
   "source": [
    "hdu1 = fits.PrimaryHDU()\n",
    "hdu2 = fits.ImageHDU()\n",
    "hdu3 = fits.TableHDU()\n",
    "new_hdul = fits.HDUList([hdu1, hdu2, hdu3])\n",
    "new_hdul.writeto('test.fits', overwrite=True)\n",
    "fits.info('test.fits')"
   ]
  },
  {
   "cell_type": "markdown",
   "metadata": {},
   "source": [
    "Note in the FITS file diplayed information, that the first extensions we created were overwritten in the `new_hdul` object by the new ones created above."
   ]
  },
  {
   "cell_type": "markdown",
   "metadata": {},
   "source": [
    "Finally, we will remove the file we created:"
   ]
  },
  {
   "cell_type": "code",
   "execution_count": 38,
   "metadata": {},
   "outputs": [],
   "source": [
    "os.remove('test.fits')"
   ]
  }
 ],
 "metadata": {
  "kernelspec": {
   "display_name": "base",
   "language": "python",
   "name": "python3"
  },
  "language_info": {
   "codemirror_mode": {
    "name": "ipython",
    "version": 3
   },
   "file_extension": ".py",
   "mimetype": "text/x-python",
   "name": "python",
   "nbconvert_exporter": "python",
   "pygments_lexer": "ipython3",
   "version": "3.10.9"
  }
 },
 "nbformat": 4,
 "nbformat_minor": 2
}
