{
 "cells": [
  {
   "cell_type": "markdown",
   "metadata": {},
   "source": [
    "## Edit a FITS header\n",
    "\n",
    "This example describes how to edit a value in a FITS header using `astropy.io.fits`"
   ]
  },
  {
   "cell_type": "markdown",
   "metadata": {},
   "source": [
    "##### 1. Load the needed packages"
   ]
  },
  {
   "cell_type": "code",
   "execution_count": 1,
   "metadata": {},
   "outputs": [],
   "source": [
    "from astropy.io import fits\n",
    "from astropy.utils.data import get_pkg_data_filename"
   ]
  },
  {
   "cell_type": "markdown",
   "metadata": {},
   "source": [
    "##### 2. Download a FITS file and look inside it:"
   ]
  },
  {
   "cell_type": "code",
   "execution_count": 3,
   "metadata": {},
   "outputs": [],
   "source": [
    "fits_file = get_pkg_data_filename('tutorials/FITS-Header/input_file.fits')"
   ]
  },
  {
   "cell_type": "markdown",
   "metadata": {},
   "source": [
    "Look at the contento of the FITS file:"
   ]
  },
  {
   "cell_type": "code",
   "execution_count": 4,
   "metadata": {},
   "outputs": [
    {
     "name": "stdout",
     "output_type": "stream",
     "text": [
      "Filename: /Users/fabs/.astropy/cache/download/url/519010d87325a22575dc1d16f3a05d26/contents\n",
      "No.    Name      Ver    Type      Cards   Dimensions   Format\n",
      "  0  PRIMARY       1 PrimaryHDU       7   (100, 100)   float64   \n",
      "  1                1 ImageHDU         7   (128, 128)   float64   \n"
     ]
    }
   ],
   "source": [
    "fits.info(fits_file)"
   ]
  },
  {
   "cell_type": "markdown",
   "metadata": {},
   "source": [
    "Now, let's take a look at the headers of both extensions:"
   ]
  },
  {
   "cell_type": "code",
   "execution_count": 8,
   "metadata": {},
   "outputs": [
    {
     "name": "stdout",
     "output_type": "stream",
     "text": [
      "Before modifications\n",
      "\n",
      "Extension 0:\n",
      "SIMPLE  =                    T / conforms to FITS standard                      \n",
      "BITPIX  =                  -64 / array data type                                \n",
      "NAXIS   =                    2 / number of array dimensions                     \n",
      "NAXIS1  =                  100                                                  \n",
      "NAXIS2  =                  100                                                  \n",
      "EXTEND  =                    T                                                  \n",
      "OBJECT  = 'KITTEN  '                                                            \n",
      "\n",
      "Extension 1:\n",
      "XTENSION= 'IMAGE   '           / Image extension                                \n",
      "BITPIX  =                  -64 / array data type                                \n",
      "NAXIS   =                    2 / number of array dimensions                     \n",
      "NAXIS1  =                  128                                                  \n",
      "NAXIS2  =                  128                                                  \n",
      "PCOUNT  =                    0 / number of parameters                           \n",
      "GCOUNT  =                    1 / number of groups                               \n"
     ]
    }
   ],
   "source": [
    "print(\"Before modifications\\n\")\n",
    "print(\"Extension 0:\")\n",
    "\n",
    "print(repr(fits.getheader(fits_file, 0)))\n",
    "print()\n",
    "print(\"Extension 1:\")\n",
    "print(repr(fits.getheader(fits_file, 1)))"
   ]
  },
  {
   "cell_type": "markdown",
   "metadata": {},
   "source": [
    "##### 3. Editing the FITS file Header\n",
    "\n",
    "`astropy.io.fits` provides an object-oriented interface for reading and interacting with FITS files, but for small operations (like this example) it is often easier to use the convenience functions.\n",
    "\n",
    "> **NOTE:** Convenience functions provided by `astropy.io.fits` are \"canned\" high-level operations to achieve one task. By using convenience functions, a user does not have to worry about opening or closing a file; all of the housekeeping is done implicitly. This functions are useful for interactive Python sessions and less complex analysis scripts, **but should not be used for application code, as they are highly inefficient**. For example, each call to `getval()` requires parsing the entire FITS file.\n",
    "\n",
    "To edit a single header  value in the header for extension 0, use the `setval()` function. For example, set the OBJECT keyword to `M31`:"
   ]
  },
  {
   "cell_type": "code",
   "execution_count": null,
   "metadata": {},
   "outputs": [],
   "source": [
    "fits.setval(fits_file, 'OBJECT', value='M31')"
   ]
  }
 ],
 "metadata": {
  "kernelspec": {
   "display_name": "base",
   "language": "python",
   "name": "python3"
  },
  "language_info": {
   "codemirror_mode": {
    "name": "ipython",
    "version": 3
   },
   "file_extension": ".py",
   "mimetype": "text/x-python",
   "name": "python",
   "nbconvert_exporter": "python",
   "pygments_lexer": "ipython3",
   "version": "3.10.9"
  }
 },
 "nbformat": 4,
 "nbformat_minor": 2
}
