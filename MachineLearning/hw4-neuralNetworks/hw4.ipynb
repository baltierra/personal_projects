{
 "cells": [
  {
   "attachments": {},
   "cell_type": "markdown",
   "metadata": {
    "deletable": false,
    "editable": false,
    "nbgrader": {
     "cell_type": "markdown",
     "checksum": "e016684a413018c4c362550680262e1e",
     "grade": false,
     "grade_id": "cell-82ae56686993b52b",
     "locked": true,
     "schema_version": 3,
     "solution": false,
     "task": false
    }
   },
   "source": [
    "# Homework 4: Neural Networks\n",
    "\n",
    "\n",
    "This assignment is due on Canvas by **11:59pm on May 6**. \n",
    "Your solutions to theoretical questions should be done in Markdown/MathJax directly below the associated question.\n",
    "Your solutions to computational questions should include any specified Python code and results \n",
    "as well as written commentary on your conclusions.\n",
    "Remember that you are encouraged to discuss the problems with your instructors and classmates, \n",
    "but **you must write all code and solutions on your own**. For a refresher on the course **Collaboration Policy** click [here](https://canvas.uchicago.edu/courses/42240/assignments/syllabus).\n",
    "\n",
    "\n",
    "**NOTES**: \n",
    "\n",
    "- Do **NOT** load or use any Python packages that are not available in Anaconda (Version: 2019.07) with Python 3.9. \n",
    "- Some problems with code may be autograded.  If we provide a function API **do not** change it.  If we do not provide a function API then you're free to structure your code however you like. \n",
    "- Submit this Jupyter notebook and a PDF of your ouput to Canvas.  Do not compress it using tar, rar, zip, etc. \n",
    "- In this homework, we will use [PyTorch](https://pytorch.org/) to implement a classifier. Install the current stable release for PyTorch (instructions on homepage of Pytorch website). We recommend you use Anaconda for these installations in a virtual environment but you can use pip as well.\n",
    "\n",
    "It is **highly recommended** you install the CPU-only version of PyTorch if your'e unfamiliar with the process of installing CUDA libraries for these packages. If you choose to install a GPU version, ensure you're code runs without GPU support.\n",
    "\n",
    "**Acknowledgment** : Chris Ketelsen"
   ]
  },
  {
   "attachments": {},
   "cell_type": "markdown",
   "metadata": {
    "deletable": false,
    "editable": false,
    "nbgrader": {
     "cell_type": "markdown",
     "checksum": "02b13210d07177ff7bebf871045f85c1",
     "grade": false,
     "grade_id": "cell-c45699879b420760",
     "locked": true,
     "schema_version": 3,
     "solution": false,
     "task": false
    }
   },
   "source": [
    "**Please put your name.**"
   ]
  },
  {
   "cell_type": "code",
   "execution_count": 10,
   "metadata": {},
   "outputs": [
    {
     "data": {
      "text/plain": [
       "<torch._C.Generator at 0x7fb861192950>"
      ]
     },
     "execution_count": 10,
     "metadata": {},
     "output_type": "execute_result"
    }
   ],
   "source": [
    "import math\n",
    "import pickle\n",
    "import gzip\n",
    "import numpy as np\n",
    "import matplotlib.pylab as plt\n",
    "%matplotlib inline\n",
    "\n",
    "# Test PyTorch installation\n",
    "import torch \n",
    "\n",
    "torch.manual_seed(1234)"
   ]
  },
  {
   "attachments": {},
   "cell_type": "markdown",
   "metadata": {},
   "source": [
    "[26 points] Problem 1 - Single-Layer and Multilayer Perceptron Learning\n",
    "---\n",
    "\n",
    "### Part 1 [13 points] \n",
    "Consider learning the following concepts with either a single-layer or multilayer perceptron where all hidden and output neurons utilize the *indicator* activation functions. For each of the following concepts, state whether the concept can be learned by a single-layer perceptron. Briefly justify your response by providing weights, biases, and the *indicator* activation functions if applicable:\n",
    "\n",
    "- $\\; \\texttt{NOT } x_1$\n",
    "\n",
    "- $\\; x_1 \\texttt{ NAND } x_2$\n",
    "\n",
    "- $\\; x_1 \\texttt{ XNOR } x_2$ (output 1 when $x_1 = x_2$ and 0 otherwise)\n"
   ]
  },
  {
   "attachments": {},
   "cell_type": "markdown",
   "metadata": {
    "collapsed": true,
    "deletable": false,
    "nbgrader": {
     "cell_type": "markdown",
     "checksum": "dfdc38689f4c5df788943b9f0de15a38",
     "grade": true,
     "grade_id": "cell-5504bb80827fe61b",
     "locked": false,
     "points": 13,
     "schema_version": 3,
     "solution": true
    }
   },
   "source": [
    "**[ANSWER]** First, we will considere as an activation function, the following: $$f(z) = \\begin{cases} 1 & z \\ge 0 \\\\ 0 & z < 0 \\end{cases}$$ where (for a vector with $n$ inputs $x_i$ and a bias $b$) $$z = \\sum_{i=1}^{n} x_i  w_i + b$$\n",
    "\n",
    "- $\\; \\texttt{NOT } x_1$\n",
    "\n",
    "**[ANSWER]** This is the negation of a logical proposition and as a result it gives the opposite boolean value for a given $x_1$. We can depict this situation through the following table:\n",
    "\n",
    "| $x_1$ | $\\texttt{ NOT } x_1$ |\n",
    "| :-: | :-: |\n",
    "| $0$ | $1$ |\n",
    "| $1$ | $0$ |\n",
    "\n",
    "In this case we want that  $x_1 w_1 + b \\ge 0$ for $x_1 = 0$ and the opposite for $x_1 = 1$. If we try with $w_1 = -1$ and $b=1$ we will have the expected result:\n",
    "$$x_1=0 \\longrightarrow z = 0\\cdot (-1) + 1 = 1 \\longrightarrow z \\ge 0 \\longrightarrow f(z) = 1$$\n",
    "$$x_1=1 \\longrightarrow z = 1\\cdot (-1) + 1 = 0 \\longrightarrow z < 0 \\longrightarrow f(z) = 0$$\n",
    "\n",
    "With this information we know that the guessed weights and bias are enough to learn the concept and therefore a single-layer perceptron is enough.\n",
    "\n",
    "\n",
    "\n",
    "- $\\; x_1 \\texttt{ NAND } x_2$\n",
    "\n",
    "**[ANSWER]** This is the logical negation of a boolean conjunction, which can be represented in the following table: \n",
    "\n",
    "| $x_1$ | $x_2$ | $x_1 \\texttt{ AND } x_2$ | $x_1 \\texttt{ NAND } x_2$ |\n",
    "| :-: | :-: | :-: | :-: |\n",
    "| $0$ | $0$ | $0$ | $1$ |\n",
    "| $0$ | $1$ | $0$ | $1$ |\n",
    "| $1$ | $0$ | $0$ | $1$ |\n",
    "| $1$ | $1$ | $1$ | $0$ |\n",
    "\n",
    "As we discussed in class, we know that $\\texttt{ NAND }$ operator can be learned with a single-layer perceptron because the outputs are linearly separable with regards to the inputs. We can estimate weights and bias for $\\texttt{ NAND }$ as $w=(-1, -1)$ and $b=1$ and proof they work for all possible values of $x_1$ and $x_2$, returning correct predictions. We will use the $z$ and $f(z)$ definitions given at the beggining of this problem. \n",
    "\n",
    "\n",
    "$$x_1=0 \\wedge x_2=0 \\longrightarrow z = 0\\cdot (-1) + 0\\cdot (-1) + 1 = 1 \\longrightarrow z \\ge 0 \\longrightarrow f(z) = 1$$\n",
    "$$x_1=0 \\wedge x_2=1 \\longrightarrow z = 0\\cdot (-1) + 1\\cdot (-1) + 1 = 0 \\longrightarrow z \\ge 0 \\longrightarrow f(z) = 1$$\n",
    "$$x_1=1 \\wedge x_2=0 \\longrightarrow z = 1\\cdot (-1) + 0\\cdot (-1) + 1 = 0 \\longrightarrow z \\ge 0 \\longrightarrow f(z) = 1$$\n",
    "$$x_1=1 \\wedge x_2=1 \\longrightarrow z = 1\\cdot (-1) + 1\\cdot (-1) + 1 = -1 \\longrightarrow z < 0 \\longrightarrow f(z) = 0$$\n",
    "\n",
    "\n",
    "- $\\; x_1 \\texttt{ XNOR } x_2$ (output 1 when $x_1 = x_2$ and 0 otherwise)\n",
    "\n",
    "**[ANSWER]** This is the logical negation of an exclusive disyunction, which can be represented in the following table: \n",
    "\n",
    "| $x_1$ | $x_2$ | $x_1 \\texttt{ XOR } x_2$ | $x_1 \\texttt{ XNOR } x_2$ |\n",
    "| :-: | :-: | :-: | :-: |\n",
    "| $0$ | $0$ | $0$ | $1$ |\n",
    "| $0$ | $1$ | $1$ | $0$ |\n",
    "| $1$ | $0$ | $1$ | $0$ |\n",
    "| $1$ | $1$ | $0$ | $1$ |\n",
    "\n",
    "We already discussed in class that the exclusive disyunction ($\\texttt{XOR}$) cannot be learned by a single-layer perceptron because the outputs are not linearly separable with regards to the inputs, so we can infer that the $\\texttt{ XNOR }$ (logical negation of $\\texttt{ XOR}$) also **cannot be learned by a single-layer perceptron**. A way to overcome this situation is by adding more layers to build a multi-layer perceptron able to learn the $\\texttt{ XNOR }$. On the other hand, we saw that the $\\texttt{ XOR }$ could be written in function of other logical operators as $\\texttt{ XOR = AND (OR, NAND) }$ which is equivalent to $(x_1 \\vee x_2) \\wedge \\neg(x_1 \\wedge x_2)$. Since $\\texttt{ XNOR }$ is the negation of $\\texttt{ XOR }$, using De Morgan's laws, we have that\n",
    "$$\\neg((x_1 \\vee x_2) \\wedge \\neg(x_1 \\wedge x_2)) \\Longleftrightarrow \\neg(x_1 \\vee x_2) \\vee (x_1 \\wedge x_2)$$ \n",
    "therefore $\\texttt{ XNOR }$ could be written as $\\texttt{ XNOR = OR (NOR, AND) }$. This representation will be useful to describe an architecture for the multi-layer perceptron in the Part 2 of the problem, where also weights and biases will be specified. "
   ]
  },
  {
   "attachments": {},
   "cell_type": "markdown",
   "metadata": {
    "deletable": false,
    "editable": false,
    "nbgrader": {
     "cell_type": "markdown",
     "checksum": "2be512fcc20306464e48ac46ffb8e227",
     "grade": false,
     "grade_id": "cell-34216deb363900f5",
     "locked": true,
     "schema_version": 3,
     "solution": false,
     "task": false
    }
   },
   "source": [
    "### Part 2 [13 points] \n",
    "\n",
    "Determine an architecture and specific values of the weights and biases in a single-layer or multilayer perceptron with *indicator* activation functions that can learn $x_1 \\texttt{ XNOR } x_2$. Make a truth table of $x_1$, $x_2$, and $x_1 \\texttt{ XNOR } x_2$, describe your perceptron's architecture, and state your weight matrices and bias vectors in Markdown below. Then demonstrate that your solution is correct by implementing forward propagation for your network in Python and showing that it produces the correct boolean output values for each of the four possible combinations of $x_1$ and $x_2$."
   ]
  },
  {
   "attachments": {},
   "cell_type": "markdown",
   "metadata": {
    "collapsed": true,
    "deletable": false,
    "nbgrader": {
     "cell_type": "markdown",
     "checksum": "14a2818fdc70d3dd3eb4b39ddd3a107e",
     "grade": true,
     "grade_id": "cell-fd1e475a5ef92def",
     "locked": false,
     "points": 7,
     "schema_version": 3,
     "solution": true
    }
   },
   "source": [
    "**[ANSWER]** As it was discussed on the Part 1 of the problem, $\\texttt{ XNOR }$ can be expressed as $\\texttt{ XNOR = OR (NOR, AND)}$, with that in mind the following architecture for a multi-layer perceptron will be proposed, where the first layer computes the $\\texttt{ NOR }$ and the $\\texttt{ AND}$, and the second layer will compute the $\\texttt{ OR}$:\n",
    "\n",
    "![xnor architecture](figs/xnor.png)\n",
    "\n",
    "For Part 2 we will use the same $z$ and $f(z)$ defined in Part 1. From there, we also know that the truth table for $x_1 \\texttt{ XNOR } x_2$ is:\n",
    "\n",
    "| $x_1$ | $x_2$ | $x_1 \\texttt{ XOR } x_2$ | $x_1 \\texttt{ XNOR } x_2$ |\n",
    "| :-: | :-: | :-: | :-: |\n",
    "| $0$ | $0$ | $0$ | $1$ |\n",
    "| $0$ | $1$ | $1$ | $0$ |\n",
    "| $1$ | $0$ | $1$ | $0$ |\n",
    "| $1$ | $1$ | $0$ | $1$ |\n",
    "\n",
    "On the other hand, we will use the following weights and biases to demonstrate that the solution is correct (which will be done by implementing the function ```xnor_fp()```):\n",
    "$$w_1 = \\begin{bmatrix} 1 & 1 \\\\ -1 & -1\\end{bmatrix}, w_2 = \\begin{bmatrix} 1 \\\\ 1 \\end{bmatrix}, b_1 = \\begin{bmatrix} -0.5 \\\\ 1.5 \\end{bmatrix},  b_2 = -1.5$$\n",
    "\n",
    "The final output of the implementation will be equivalent to the truth table."
   ]
  },
  {
   "cell_type": "code",
   "execution_count": 11,
   "metadata": {
    "deletable": false,
    "nbgrader": {
     "cell_type": "code",
     "checksum": "34c4ad53eaf363a9e8c040e94bd947a4",
     "grade": true,
     "grade_id": "cell-330996afb5a81650",
     "locked": false,
     "points": 6,
     "schema_version": 3,
     "solution": true
    }
   },
   "outputs": [],
   "source": [
    "def activation(z):\n",
    "    \"\"\"\n",
    "    Implements the activation function for the multi-layer perceptron\n",
    "\n",
    "    Input:\n",
    "        z (float): result of  z = wa+b.\n",
    "    Output:\n",
    "        y (int): binary single output, 0 or 1.\n",
    "    \"\"\"\n",
    "    if z < 0:\n",
    "        return 0\n",
    "    if z >= 0:\n",
    "        return 1\n",
    "\n",
    "def xnor_fp(x):\n",
    "    \"\"\"\n",
    "    Implements XNOR logical operator by using forward-propagation on a\n",
    "    multi-layer perceptron.\n",
    "\n",
    "    Input:\n",
    "        x (array): binary pair of values.\n",
    "    Output:\n",
    "        y (int): binary single output, 0 or 1.\n",
    "    \"\"\"\n",
    "    w1 = np.array([[1, 1], [-1, -1]])\n",
    "    w2 = np.array([1, 1])\n",
    "    b1 = np.array([-0.5, 1.5])\n",
    "    b2 = -1.5\n",
    "\n",
    "    z = np.dot(w1, x) + b1\n",
    "\n",
    "    new_z = np.zeros(z.shape)\n",
    "\n",
    "    for i, value in enumerate(z):\n",
    "        new_z[i] = activation(value)\n",
    "    \n",
    "    z = np.dot(w2, new_z) + b2\n",
    "\n",
    "    return activation(z)"
   ]
  },
  {
   "cell_type": "code",
   "execution_count": 12,
   "metadata": {},
   "outputs": [
    {
     "name": "stdout",
     "output_type": "stream",
     "text": [
      "If x1 = 0 and x2 = 0, then x1 XNOR x2 = 0\n",
      "If x1 = 0 and x2 = 1, then x1 XNOR x2 = 1\n",
      "If x1 = 1 and x2 = 0, then x1 XNOR x2 = 1\n",
      "If x1 = 1 and x2 = 1, then x1 XNOR x2 = 0\n"
     ]
    }
   ],
   "source": [
    "#Test all the possible binary combinations for x = (x1, x2)\n",
    "test = np.array([[0,0], [0, 1], [1, 0], [1, 1]])\n",
    "\n",
    "for pair in test:\n",
    "    print(f\"If x1 = {pair[0]} and x2 = {pair[1]}, then x1 XNOR x2 = {xnor_fp(pair)}\")"
   ]
  },
  {
   "attachments": {},
   "cell_type": "markdown",
   "metadata": {
    "deletable": false,
    "editable": false,
    "nbgrader": {
     "cell_type": "markdown",
     "checksum": "eec45d2ce42d7a68e35e21c35f0e0dd6",
     "grade": false,
     "grade_id": "cell-410d0399fa830fab",
     "locked": true,
     "schema_version": 3,
     "solution": false,
     "task": false
    }
   },
   "source": [
    "[30 points] Problem 2 - Back propagation\n",
    "---\n",
    "\n",
    "In this problem you will gain some intuition about why training deep neural networks can be very time consuming.  Consider training a chain-like neural network: \n",
    "\n",
    "\n",
    "![chain-like nn](figs/chain_net.png)\n",
    "\n",
    "\n",
    "Note that this network has three weights $W^1, W^2, W^3$ and three biases $b^1, b^2,$ and $b^3$ (for this problem you can think of each parameter as a single value or as a $1 \\times 1$ matrix). Suppose that each hidden and output neuron is equipped with a sigmoid activation function and the loss function is given by \n",
    "\n",
    "$$\n",
    "\\ell(y, a^4) = \\frac{1}{2}(y - a^4)^2  \n",
    "$$\n",
    "\n",
    "where $a^4$ is the value of the activation at the output neuron and $y \\in \\{0,1\\}$ is the true label associated with the training example.  \n",
    "\n",
    "**Note**: Superscripts on $W$'s, $b$'s, and $a$'a are being used as indices and not powers here (e.g. $a^4$ indicates the 4th activation value, not the activation value $a$ to the 4th power.)"
   ]
  },
  {
   "attachments": {},
   "cell_type": "markdown",
   "metadata": {
    "deletable": false,
    "editable": false,
    "nbgrader": {
     "cell_type": "markdown",
     "checksum": "0469b2c80ca80e326c1c1314c8b1165d",
     "grade": false,
     "grade_id": "cell-4337ff6b53b1760a",
     "locked": true,
     "schema_version": 3,
     "solution": false,
     "task": false
    }
   },
   "source": [
    "### Part 1 [6 points]\n",
    "Suppose each of the weights is initialized to $W^k = 1.0$ and each bias is initialized to $b^k = -0.5$.  Use forward propagation to find the activities and activations associated with each hidden and output neuron for the training example $(x, y) = (0.5,0)$. Show your work. \n",
    "\n",
    "**[ANSWER]** According to the prompt, each hidden and output neuron is equipped with a sigmoid activation function, so we will define the activation function $g(z)$ and $z$ as follows:\n",
    "$$g(z) = \\frac{1}{1 + e^{-z}} \\text{    and    } z = x\\cdot w + b$$\n",
    "\n",
    "On the other hand, we will have the following weights and biases: $W=\\{1.0, 1.0, 1.0\\}$ and $b=\\{-0.5, -0.5, -0.5\\}$.\n",
    "\n",
    "Now we will follow the forward propagation algorithm to compute each layer. We start with $a^1 = x = 0.5$, $w^1 = 1.0$ and $b^1 = -0.5$ and we'll use those values to compute $a^2$:\n",
    "$$a^2 = g(z^2) = g(w^1 \\cdot a^1 + b^1) = g(1 \\cdot 0.5 -0.5) = g(0)$$\n",
    "$$a^2 = \\frac{1}{1 + e^{0}}$$\n",
    "$$a^2 = \\frac{1}{1 + 1} = \\frac{1}{2}$$\n",
    "$$a^2 = 0.5$$\n",
    "\n",
    "Now we repeat the process for layer 2:\n",
    "\n",
    "$$a^2 = 0.5 \\text{  and  } w^2 = 1.0 \\text{  and  } b^2 = -0.5$$\n",
    "$$a^3 = g(z^3) = g(w^2 \\cdot a^2 + b^2) = g(1 \\cdot 0.5 -0.5) = g(0)$$\n",
    "$$a^3 = \\frac{1}{1 + e^{0}}$$\n",
    "$$a^3 = \\frac{1}{1 + 1} = \\frac{1}{2}$$\n",
    "$$a^3 = 0.5$$\n",
    "\n",
    "And again for layer 4:\n",
    "\n",
    "$$a^3 = 0.5 \\text{  and  } w^3 = 1.0 \\text{  and  } b^3 = -0.5$$\n",
    "$$a^4 = g(z^4) = g(w^3 \\cdot a^3 + b^3) = g(1 \\cdot 0.5 -0.5) = g(0)$$\n",
    "$$a^4 = \\frac{1}{1 + e^{0}}$$\n",
    "$$a^4 = \\frac{1}{1 + 1} = \\frac{1}{2}$$\n",
    "$$a^4 = 0.5$$\n",
    "\n",
    "Finally we use the loss function to calculate $\\ell$ for $y=0$ and $a^4 = 0.5$:\n",
    "\n",
    "$$ \\ell(y, a^4) = \\frac{1}{2}(y - a^4)^2 $$\n",
    "$$ \\ell(0, 0.5) = \\frac{1}{2}(0 - 0.5)^2 $$\n",
    "$$ \\ell(0, 0.5) = \\frac{0.35}{2} $$\n",
    "$$ \\ell(0, 0.5) = 0.125 $$\n"
   ]
  },
  {
   "attachments": {},
   "cell_type": "markdown",
   "metadata": {
    "deletable": false,
    "editable": false,
    "nbgrader": {
     "cell_type": "markdown",
     "checksum": "b99a2b3244913c9804b9de283a134248",
     "grade": false,
     "grade_id": "cell-77928f9f19f6876f",
     "locked": true,
     "schema_version": 3,
     "solution": false,
     "task": false
    }
   },
   "source": [
    "### Part 2 [8 points]:\n",
    "Use Back-Propagation to compute the weight and bias derivatives $\\partial \\ell / \\partial W^k$ and $\\partial \\ell / \\partial b^k$ for $k=1, 2, 3$.  Show all work. "
   ]
  },
  {
   "attachments": {},
   "cell_type": "markdown",
   "metadata": {
    "collapsed": true,
    "deletable": false,
    "nbgrader": {
     "cell_type": "markdown",
     "checksum": "dd6dbad893ed977cd9de318e414b9e17",
     "grade": true,
     "grade_id": "cell-6a3b895fa888e925",
     "locked": false,
     "points": 8,
     "schema_version": 3,
     "solution": true
    }
   },
   "source": [
    "**[ANSWER]** From the part one, we know that $a^1 = x = 0.5$. We will also use the already defined sigmoid function $g(z)$, and its derivative $g'(z) = g(z)(1-g(z))$, as well as the loss function $\\ell$. Additionally we will take into consideration the following expresion for the calculations:\n",
    "\n",
    "From input layer to hidden layer 1: $z_1 = W^1 \\cdot a^1 + b_1$ and $a^2 = g(z_1)$.\n",
    "\n",
    "From hidden layer 1 to hidden layer 2: $z_2 = W^2 \\cdot a^2 + b_2$ and $a^3 = g(z_2)$\n",
    "\n",
    "From hidden layer 2 to output layer: $z_3 = W^3 \\cdot a^3 + b_3$ and $a^4 = g(z_3)$\n",
    "\n",
    "First we will enunciate the weight derivatives $\\partial \\ell / \\partial W^k$:\n",
    "\n",
    "$$\\frac{\\partial \\ell}{\\partial W^3} = \\frac{\\partial \\ell}{\\partial a^4} \\frac{\\partial a^4}{\\partial z_3} \\frac{\\partial z_3}{\\partial W^3}$$\n",
    "$$\\frac{\\partial \\ell}{\\partial W^3} = (a^4 - y) \\cdot (g(z_3)(1-g(z_3))) \\cdot a^3$$\n",
    "$$\\frac{\\partial \\ell}{\\partial W^3} = (a^4 - y) \\cdot (a^4(1-a^4)) \\cdot a^3$$\n",
    "$$\\frac{\\partial \\ell}{\\partial W^3} = (0.5 - 0) \\cdot (0.5 \\cdot (1 - 0.5)) \\cdot 0.5$$\n",
    "$$\\frac{\\partial \\ell}{\\partial W^3} = 0.0625$$\n",
    "\n",
    "Given the set of values for the problem, the above reasoning and the following expressions for $\\partial \\ell / \\partial W^2$ adn $\\partial \\ell / \\partial W^1$:\n",
    "\n",
    "$$\\frac{\\partial \\ell}{\\partial W^2} = \\frac{\\partial \\ell}{\\partial a^3} \\frac{\\partial a^3}{\\partial z_2} \\frac{\\partial z_2}{\\partial W^2}$$\n",
    "\n",
    "$$\\frac{\\partial \\ell}{\\partial W^1} = \\frac{\\partial \\ell}{\\partial a^2} \\frac{\\partial a^2}{\\partial z_1} \\frac{\\partial z_1}{\\partial W^1}$$\n",
    "\n",
    "We can conclude that:\n",
    "\n",
    "$$\\frac{\\partial \\ell}{\\partial W^3} =  \\frac{\\partial \\ell}{\\partial W^2} = \\frac{\\partial \\ell}{\\partial W^1} = 0.0625$$\n",
    "\n",
    "We can proceed similarly for the biases $\\partial \\ell / \\partial b^k$:\n",
    "\n",
    "$$\\frac{\\partial \\ell}{\\partial b^3} = \\frac{\\partial \\ell}{\\partial a^4} \\frac{\\partial a^4}{\\partial z_3} \\frac{\\partial z_3}{\\partial b^3}$$\n",
    "$$\\frac{\\partial \\ell}{\\partial W^3} = (a^4 - y) \\cdot (g(z_3)(1-g(z_3))) \\cdot 1$$\n",
    "$$\\frac{\\partial \\ell}{\\partial W^3} = (a^4 - y) \\cdot (a^4(1-a^4)) \\cdot 1$$\n",
    "$$\\frac{\\partial \\ell}{\\partial W^3} = (0.5 - 0) \\cdot (0.5 \\cdot (1 - 0.5)) \\cdot 1$$\n",
    "$$\\frac{\\partial \\ell}{\\partial W^3} = 0.125$$\n",
    "\n",
    "And again, the result will be the same for all the $\\partial \\ell / \\partial b^k = 0.125$"
   ]
  },
  {
   "attachments": {},
   "cell_type": "markdown",
   "metadata": {
    "deletable": false,
    "editable": false,
    "nbgrader": {
     "cell_type": "markdown",
     "checksum": "5e5cb6f028cda68759d74b66e327c0b1",
     "grade": false,
     "grade_id": "cell-161b07ac7c31e3c3",
     "locked": true,
     "schema_version": 3,
     "solution": false,
     "task": false
    }
   },
   "source": [
    "### Part 3 [6 points]\n",
    "Implement the following activation functions in NumPy:\n",
    "* ReLU\n",
    "* Sigmoid\n",
    "* softmax\n",
    "Please **do not use any other external libraries** for this such as sklearn.\n",
    "\n",
    "**Note**: Assume the input `x` is a 1-dimensional numpy array with $n$ entries (i.e. `x.shape` is `(n,)`). The expected output is an array with the same shape."
   ]
  },
  {
   "cell_type": "code",
   "execution_count": 13,
   "metadata": {
    "deletable": false,
    "nbgrader": {
     "cell_type": "code",
     "checksum": "c3095d722bd4a8f2fdf5aaca330d63aa",
     "grade": false,
     "grade_id": "cell-3b7e3adaffe2c2ee",
     "locked": false,
     "schema_version": 3,
     "solution": true
    }
   },
   "outputs": [],
   "source": [
    "def relu(x):\n",
    "    return np.maximum(0, x)\n",
    "\n",
    "def sigmoid(x):\n",
    "    return 1/(1 + np.exp(-x))\n",
    "\n",
    "def softmax(x):\n",
    "    e_x = np.exp(x - np.max(x))\n",
    "    return e_x / e_x.sum()"
   ]
  },
  {
   "cell_type": "code",
   "execution_count": 14,
   "metadata": {
    "deletable": false,
    "editable": false,
    "nbgrader": {
     "cell_type": "code",
     "checksum": "00d2ad11366cf115733476c94fe7a150",
     "grade": true,
     "grade_id": "cell-0bded3752d3226b9",
     "locked": true,
     "points": 6,
     "schema_version": 3,
     "solution": false
    }
   },
   "outputs": [
    {
     "name": "stderr",
     "output_type": "stream",
     "text": [
      "TestRelu (tests.tests.TestActiv) ... ok\n",
      "TestSigmoid (tests.tests.TestActiv) ... ok\n",
      "TestSoftmax (tests.tests.TestActiv) ... ok\n",
      "\n",
      "----------------------------------------------------------------------\n",
      "Ran 3 tests in 0.030s\n",
      "\n",
      "OK\n"
     ]
    }
   ],
   "source": [
    "# random tests for checking your impementation.\n",
    "from tests import tests\n",
    "tests.run_test_suite('prob 2.3', (relu, sigmoid, softmax))"
   ]
  },
  {
   "attachments": {},
   "cell_type": "markdown",
   "metadata": {
    "deletable": false,
    "editable": false,
    "nbgrader": {
     "cell_type": "markdown",
     "checksum": "190b90c03addc8236ddfed594df89e1a",
     "grade": false,
     "grade_id": "cell-f97c1b3bf8c79803",
     "locked": true,
     "schema_version": 3,
     "solution": false,
     "task": false
    }
   },
   "source": [
    "### Part 4 [6 points] \n",
    "Implement the following Loss functions in NumPy:\n",
    "* mean squared error\n",
    "* mean absolute error\n",
    "* hinge\n",
    "\n",
    "Please **do not use any other external libraries** for this such as sklearn.\n",
    "\n",
    "**Note**: Assume that the inputs `y` and `yhat` are both 1-dimensional numpy arrays with $n$ entries. The expected output is a float."
   ]
  },
  {
   "cell_type": "code",
   "execution_count": 15,
   "metadata": {
    "deletable": false,
    "nbgrader": {
     "cell_type": "code",
     "checksum": "82e56ad803e5c2c632c83373c33c163e",
     "grade": false,
     "grade_id": "cell-84456d343bfeca31",
     "locked": false,
     "schema_version": 3,
     "solution": true
    }
   },
   "outputs": [],
   "source": [
    "def mean_squared_error(yhat, y):\n",
    "    return (np.square(yhat - y)).mean(axis=0)\n",
    "    \n",
    "def mean_absolute_error(yhat, y):\n",
    "    return np.mean(np.abs(yhat - y))\n",
    "\n",
    "def hinge(yhat, y):\n",
    "    return np.mean(np.maximum(np.zeros(y.shape), np.ones(y.shape) - yhat*y))"
   ]
  },
  {
   "cell_type": "code",
   "execution_count": 16,
   "metadata": {
    "deletable": false,
    "editable": false,
    "nbgrader": {
     "cell_type": "code",
     "checksum": "f8e86049691327539e29077deb473f4b",
     "grade": true,
     "grade_id": "cell-550e920d814cb6d3",
     "locked": true,
     "points": 6,
     "schema_version": 3,
     "solution": false
    }
   },
   "outputs": [
    {
     "name": "stderr",
     "output_type": "stream",
     "text": [
      "TestMSE (tests.tests.TestLoss) ... ok\n",
      "TestMAE (tests.tests.TestLoss) ... ok\n",
      "TestHinge (tests.tests.TestLoss) ... ok\n",
      "\n",
      "----------------------------------------------------------------------\n",
      "Ran 3 tests in 0.020s\n",
      "\n",
      "OK\n"
     ]
    }
   ],
   "source": [
    "# random tests for checking your impementation.\n",
    "from tests import tests\n",
    "tests.run_test_suite('prob 2.4', (mean_squared_error, mean_absolute_error, hinge))"
   ]
  },
  {
   "attachments": {},
   "cell_type": "markdown",
   "metadata": {
    "deletable": false,
    "editable": false,
    "nbgrader": {
     "cell_type": "markdown",
     "checksum": "8337d50de1028a199305f9eae023031b",
     "grade": false,
     "grade_id": "cell-e4c6962049a18e97",
     "locked": true,
     "schema_version": 3,
     "solution": false,
     "task": false
    }
   },
   "source": [
    "### Part 5 [6 points]\n",
    "Explain the vanishing gradient problem. When would you observe this? Give an example."
   ]
  },
  {
   "attachments": {},
   "cell_type": "markdown",
   "metadata": {
    "collapsed": true,
    "deletable": false,
    "nbgrader": {
     "cell_type": "markdown",
     "checksum": "4badaeda2b1c32f3d0f79964d3ed4bf5",
     "grade": true,
     "grade_id": "cell-59ccf91056b5d8bb",
     "locked": false,
     "points": 6,
     "schema_version": 3,
     "solution": true
    }
   },
   "source": [
    "**[ANSWER]** Generally speaking, the  vanishing gradient problem refers to the fact that the gradients of the loss function approaches to zero in a neural network, difficulting the network's training, as long as more layers are added to the network and these layers use certain activation functions like the sigmoid.\n",
    "\n",
    "For example, the sigmoid function will have very small derivatives for large inputs (both positives and negatives) and when doing backpropagation this will cause an exponential decrease of the gradient because of the multiplication of several very small derivatives. A small gradient will affect the training process because the initial weights and biases of the network will not be updated properly.\n",
    "\n",
    "One way to overcome this issue is to use other activation functions that will not produce small derivatives, as the ReLU function."
   ]
  },
  {
   "attachments": {},
   "cell_type": "markdown",
   "metadata": {
    "deletable": false,
    "editable": false,
    "nbgrader": {
     "cell_type": "markdown",
     "checksum": "e41abddda3d3505897546da7f9366fe4",
     "grade": false,
     "grade_id": "cell-85519893ca971e10",
     "locked": true,
     "schema_version": 3,
     "solution": false,
     "task": false
    }
   },
   "source": [
    "[30 Points] Problem 3 - Build a feedforward neural network in NumPy\n",
    "---\n",
    "\n",
    "In this problem you will implement a class representing a general feed-forward neural network that utilizes the sigmoid activation functions. Your tasks will be to implement forward propagation, prediction, back propagation, and a general train routine to learn the weights in your network via stochastic gradient descent.\n",
    "\n",
    "The skeleton for the network class is below."
   ]
  },
  {
   "cell_type": "code",
   "execution_count": 17,
   "metadata": {
    "deletable": false,
    "nbgrader": {
     "cell_type": "code",
     "checksum": "61fd73a93a943091261407a2d39b76d7",
     "grade": false,
     "grade_id": "cell-b8abc0ac570aac74",
     "locked": false,
     "schema_version": 3,
     "solution": true
    }
   },
   "outputs": [],
   "source": [
    "import argparse\n",
    "import numpy as np\n",
    "import pickle\n",
    "import gzip\n",
    "import matplotlib.pyplot as plt\n",
    "\n",
    "\n",
    "class Network:\n",
    "    def __init__(self, sizes):\n",
    "        self.L = len(sizes)\n",
    "        self.sizes = sizes\n",
    "        self.biases = [np.random.randn(n, 1) for n in self.sizes[1:]]\n",
    "        self.weights = [np.random.randn(n, m) for (\n",
    "            m, n) in zip(self.sizes[:-1], self.sizes[1:])]\n",
    "        self.acc_train_array = []\n",
    "        self.acc_test_array = []\n",
    "\n",
    "    def g(self, z):\n",
    "        \"\"\"\n",
    "        activation function\n",
    "        \"\"\"\n",
    "        return sigmoid(z)\n",
    "\n",
    "    def g_prime(self, z):\n",
    "        \"\"\"\n",
    "        derivative of activation function\n",
    "        \"\"\"\n",
    "        return sigmoid_prime(z)\n",
    "\n",
    "    def forward_prop(self, a):\n",
    "        \"\"\"\n",
    "        memory aware forward propagation for testing\n",
    "        only.  back_prop implements its own forward_prop\n",
    "        should take in weights and biases and return output value\n",
    "        \"\"\"\n",
    "\n",
    "        for W,b in zip(self.weights, self.biases):\n",
    "            z= np.dot(W, a) + b\n",
    "            a = self.g(z)\n",
    "\n",
    "        return a\n",
    "\n",
    "    def grad_cost(self, a, y):\n",
    "        \"\"\"\n",
    "        gradient of cost function\n",
    "        Assumes C(a,y) = (a-y)^2/2\n",
    "        \"\"\"\n",
    "        return (a - y)\n",
    "    \n",
    "    def log_train_progress(self, train, test, epoch):\n",
    "        \"\"\" Logs training progres. \n",
    "        \"\"\"\n",
    "        acc_train = self.evaluate(train)\n",
    "        self.acc_train_array.append(acc_train)\n",
    "        if test is not None:\n",
    "            acc_test = self.evaluate(test)\n",
    "            self.acc_test_array.append(acc_test)\n",
    "            print(\"Epoch {:4d}: Train {:10.5f}, Test {:10.5f}\".format(\n",
    "                epoch+1, acc_train, acc_test))\n",
    "        else:\n",
    "            print(\"Epoch {:4d}: Train {:10.5f}\".format(\n",
    "                epoch+1, acc_train))\n",
    "            \n",
    "\n",
    "    def SGD_train(self, train, epochs, eta, lam=0.0, verbose=True, test=None):\n",
    "        \"\"\"\n",
    "        SGD for training parameters\n",
    "        epochs is the number of epocs to run\n",
    "        eta is the learning rate\n",
    "        lam is the regularization parameter\n",
    "        If verbose is set will print progressive accuracy updates\n",
    "        If test set is provided, routine will print accuracy on test set as learning evolves\n",
    "        \"\"\"\n",
    "        n_train = len(train)\n",
    "        for epoch in range(epochs):\n",
    "            perm = np.random.permutation(n_train)\n",
    "            for kk in range(n_train):\n",
    "                self.SGD_step(*train[perm[kk]], eta, lam)\n",
    "            if verbose and epoch == 0 or (epoch + 1) % 20 == 0:\n",
    "                self.log_train_progress(train, test, epoch)\n",
    "    \n",
    "    def SGD_step(self, x, y, eta, lam):\n",
    "        \"\"\"\n",
    "        TODO: get gradients with x, y and do SGD on weights and biases\n",
    "\n",
    "        Args:\n",
    "            x: single sample features.\n",
    "            y: single sample target.\n",
    "            eta: learning rate.\n",
    "            lam: Regularization parameter.\n",
    "                \n",
    "        \"\"\"\n",
    "        # TODO: get gradients with xk, yk and do SGD on and update weights and biases\n",
    "        dW_list, db_list = self.back_prop(x, y)\n",
    "        self.weights = [w - eta * (dw + lam * w) for (w, dw) in zip(self.weights, dW_list)]\n",
    "        self.biases = [b - eta * (db) for (b, db) in zip(self.biases, db_list)]\n",
    "\n",
    "    def back_prop(self, x, y):\n",
    "        \"\"\"\n",
    "        Back propagation for derivatives of C wrt parameters\n",
    "        \"\"\"\n",
    "        db_list = [np.zeros(b.shape) for b in self.biases]\n",
    "        dW_list = [np.zeros(W.shape) for W in self.weights]\n",
    "        \n",
    "        a = x\n",
    "        a_list = [a]\n",
    "        z_list = [np.zeros(a.shape)]  # Pad with a placeholder so that indices match\n",
    "\n",
    "        for W, b in zip(self.weights, self.biases):\n",
    "            z = np.dot(W, a) + b\n",
    "            z_list.append(z)\n",
    "            a = self.g(z)\n",
    "            a_list.append(a)\n",
    "\n",
    "        # Back propagate deltas to compute derivatives\n",
    "        # The following list gives hints on how to do it\n",
    "        # calculating delta (Error) for the output layer\n",
    "        # for the appropriate layers compute db_list[ell], dW_list[ell], delta\n",
    "        # use functions above for your solution\n",
    "\n",
    "        loss_func_gr = self.grad_cost(a_list[self.L-1], y)\n",
    "        acc_func_gr = self.g_prime(z_list[self.L-1])\n",
    "        delta = loss_func_gr * acc_func_gr\n",
    "        newL = self.L - 2\n",
    "\n",
    "        for i in range(newL, -1, -1):\n",
    "            db_list[i] = delta \n",
    "            dW_list[i] = np.dot(delta, a_list[i].T)\n",
    "            weights_transpose = self.weights[i].T\n",
    "            delta = np.dot(weights_transpose, delta) * self.g_prime(z_list[i])\n",
    "\n",
    "        return (dW_list, db_list)\n",
    "    \n",
    "\n",
    "    def evaluate(self, test):\n",
    "        \"\"\"\n",
    "        Evaluate current model on labeled test data\n",
    "        \"\"\"\n",
    "        ctr = 0\n",
    "        for x, y in test:\n",
    "            yhat = self.forward_prop(x)\n",
    "            ctr += yhat.argmax() == y.argmax()\n",
    "        return float(ctr) / float(len(test))\n",
    "\n",
    "\n",
    "def sigmoid(z, threshold=20):\n",
    "    z = np.clip(z, -threshold, threshold)\n",
    "    return 1.0 / (1.0 + np.exp(-z))\n",
    "\n",
    "\n",
    "def sigmoid_prime(z):\n",
    "    return sigmoid(z) * (1.0 - sigmoid(z))\n",
    "\n",
    "\n",
    "def mnist_digit_show(flatimage, outname=None):\n",
    "\n",
    "    import matplotlib.pyplot as plt\n",
    "\n",
    "    image = np.reshape(flatimage, (-1, 14))\n",
    "\n",
    "    plt.matshow(image, cmap=plt.cm.binary)\n",
    "    plt.xticks([])\n",
    "    plt.yticks([])\n",
    "    if outname:\n",
    "        plt.savefig(outname)\n",
    "    else:\n",
    "        plt.show()"
   ]
  },
  {
   "attachments": {},
   "cell_type": "markdown",
   "metadata": {
    "deletable": false,
    "editable": false,
    "nbgrader": {
     "cell_type": "markdown",
     "checksum": "df752a10897fda50f7480c89b05d113b",
     "grade": false,
     "grade_id": "cell-7eed131bbb859104",
     "locked": true,
     "schema_version": 3,
     "solution": false,
     "task": false
    }
   },
   "source": [
    "### Part 1 [20 points]\n",
    "Implement `SGD_step`, `back_prop`, and `forward_prop`. Use the following test cases to verify if the code is working as expected."
   ]
  },
  {
   "cell_type": "code",
   "execution_count": 18,
   "metadata": {
    "deletable": false,
    "editable": false,
    "nbgrader": {
     "cell_type": "code",
     "checksum": "e083a8e163ca2c45c7731a8cf6f60ac2",
     "grade": true,
     "grade_id": "cell-7632a78793a2588e",
     "locked": true,
     "points": 20,
     "schema_version": 3,
     "solution": false
    }
   },
   "outputs": [
    {
     "name": "stderr",
     "output_type": "stream",
     "text": [
      "TestBackPropWithoutRegularization (tests.tests.TestNetwork) ... ok\n",
      "TestBackPropWithRegularization (tests.tests.TestNetwork) ... ok\n",
      "\n",
      "----------------------------------------------------------------------\n",
      "Ran 2 tests in 0.500s\n",
      "\n",
      "OK\n"
     ]
    }
   ],
   "source": [
    "from tests import tests\n",
    "tests.run_test_suite('prob 3', Network)"
   ]
  },
  {
   "attachments": {},
   "cell_type": "markdown",
   "metadata": {
    "deletable": false,
    "editable": false,
    "nbgrader": {
     "cell_type": "markdown",
     "checksum": "780991ea3be1b0006a17caeaf9f32e7e",
     "grade": false,
     "grade_id": "cell-3a21b0c7d363da0d",
     "locked": true,
     "schema_version": 3,
     "solution": false,
     "task": false
    }
   },
   "source": [
    "### Part 2 [10 points]\n",
    "\n",
    "Run the above Network on MNIST Dataset and report the following (feel free to experiment with different learning rates).\n",
    "\n",
    "* Change the hidden layer dimensions and experiment with these values: [5, 10, 20].\n",
    "* Plot accuracies of different hidden layer dimensions vs. epochs for both training and testing.\n",
    "* Explain the effect of hidden layer dimension on performance. \n",
    "\n",
    "**Note:** Accuracies are stored in `self.acc_train_array` and `self.acc_test_array` if `verbose` is `True`."
   ]
  },
  {
   "cell_type": "code",
   "execution_count": 19,
   "metadata": {},
   "outputs": [
    {
     "name": "stdout",
     "output_type": "stream",
     "text": [
      "Number of Input Features:  196\n",
      "Number of Output classes:  10\n",
      "\n",
      "Hidden Layer Dimensions:  5\n",
      "Epoch    1: Train    0.15726, Test    0.16567\n",
      "Epoch   20: Train    0.81753, Test    0.73349\n",
      "Epoch   40: Train    0.87635, Test    0.79392\n",
      "Epoch   60: Train    0.88756, Test    0.79832\n",
      "Epoch   80: Train    0.88956, Test    0.80152\n",
      "Epoch  100: Train    0.89116, Test    0.79952\n",
      "Epoch  120: Train    0.89836, Test    0.80072\n",
      "Epoch  140: Train    0.89476, Test    0.79472\n",
      "Epoch  160: Train    0.89156, Test    0.80112\n",
      "Epoch  180: Train    0.89636, Test    0.79752\n",
      "Epoch  200: Train    0.90036, Test    0.79952\n",
      "\n",
      "Hidden Layer Dimensions:  10\n",
      "Epoch    1: Train    0.26371, Test    0.26371\n",
      "Epoch   20: Train    0.90996, Test    0.83954\n",
      "Epoch   40: Train    0.93637, Test    0.85914\n",
      "Epoch   60: Train    0.94078, Test    0.86435\n",
      "Epoch   80: Train    0.94638, Test    0.86234\n",
      "Epoch  100: Train    0.94478, Test    0.86234\n",
      "Epoch  120: Train    0.94838, Test    0.86154\n",
      "Epoch  140: Train    0.94838, Test    0.86795\n",
      "Epoch  160: Train    0.95238, Test    0.86635\n",
      "Epoch  180: Train    0.94838, Test    0.86715\n",
      "Epoch  200: Train    0.94718, Test    0.86515\n",
      "\n",
      "Hidden Layer Dimensions:  20\n",
      "Epoch    1: Train    0.46339, Test    0.37615\n",
      "Epoch   20: Train    0.92037, Test    0.84834\n",
      "Epoch   40: Train    0.94118, Test    0.86675\n",
      "Epoch   60: Train    0.95078, Test    0.87475\n",
      "Epoch   80: Train    0.95598, Test    0.87115\n",
      "Epoch  100: Train    0.95518, Test    0.87515\n",
      "Epoch  120: Train    0.95998, Test    0.88275\n",
      "Epoch  140: Train    0.96158, Test    0.87835\n",
      "Epoch  160: Train    0.96038, Test    0.88355\n",
      "Epoch  180: Train    0.96238, Test    0.88035\n",
      "Epoch  200: Train    0.96359, Test    0.88275\n"
     ]
    }
   ],
   "source": [
    "location = './data/tinyMNIST.pkl.gz'\n",
    "f = gzip.open(location, 'rb')\n",
    "u = pickle._Unpickler(f)\n",
    "u.encoding = 'latin1'\n",
    "train, test = u.load()\n",
    "input_dimensions = len(train[0][0])\n",
    "output_dimensions = len(train[0][1])\n",
    "print('Number of Input Features: ', input_dimensions)\n",
    "print('Number of Output classes: ', output_dimensions)\n",
    "\n",
    "nns = []\n",
    "for hidden_layer_dimensions in [5, 10, 20]:\n",
    "    print('\\nHidden Layer Dimensions: ', hidden_layer_dimensions)\n",
    "    nn = Network([input_dimensions, hidden_layer_dimensions, output_dimensions])\n",
    "    nns.append(nn)\n",
    "    nn.SGD_train(train, epochs=200, eta=0.1, lam=0.0001, verbose=True, test=test)"
   ]
  },
  {
   "attachments": {},
   "cell_type": "markdown",
   "metadata": {
    "deletable": false,
    "editable": false,
    "nbgrader": {
     "cell_type": "markdown",
     "checksum": "f93da7a1fb1a534fdba7fccbcacef6c2",
     "grade": false,
     "grade_id": "cell-3a4d12fce7f9f7c0",
     "locked": true,
     "schema_version": 3,
     "solution": false,
     "task": false
    }
   },
   "source": [
    "Plot training and testing accuracies below for each configuration. Use solid lines for testing accuracy, and dotted lines for train accuracy (`ls='dashed`). \n",
    "\n",
    "Be sure to label your lines and match colors accordingly."
   ]
  },
  {
   "cell_type": "code",
   "execution_count": 20,
   "metadata": {
    "deletable": false,
    "nbgrader": {
     "cell_type": "code",
     "checksum": "210f7afe0af853651b6f0d659016f871",
     "grade": true,
     "grade_id": "cell-5e86a6c1f3a99b62",
     "locked": false,
     "points": 5,
     "schema_version": 3,
     "solution": true,
     "task": false
    }
   },
   "outputs": [
    {
     "data": {
      "image/png": "[encoded data removed]",
      "text/plain": [
       "<Figure size 1440x720 with 1 Axes>"
      ]
     },
     "metadata": {
      "needs_background": "light"
     },
     "output_type": "display_data"
    }
   ],
   "source": [
    "fig, ax = plt.subplots(nrows=1, ncols=1, figsize=(20,10))\n",
    "epochs_array = [i for i in range(1, 220, 20)]\n",
    "\n",
    "for nn in nns:\n",
    "    hidden_layers = nn.sizes[1]\n",
    "    if nn.sizes[1] == 5:\n",
    "        plt.plot(epochs_array, nn.acc_train_array, \"--y\", label = f\"Train: {hidden_layers} layers.\")\n",
    "    if nn.sizes[1] == 10:\n",
    "        plt.plot(epochs_array, nn.acc_train_array, \"--g\", label = f\"Train: {hidden_layers} layers.\")\n",
    "    if nn.sizes[1] == 20:\n",
    "        plt.plot(epochs_array, nn.acc_train_array, \"--b\", label = f\"Train: {hidden_layers} layers.\")\n",
    "\n",
    "for nn in nns:\n",
    "    hidden_layers = nn.sizes[1]\n",
    "    if nn.sizes[1] == 5:\n",
    "        plt.plot(epochs_array, nn.acc_test_array, \"-y\", label = f\"Test: {hidden_layers} layers.\")\n",
    "    if nn.sizes[1] == 10:\n",
    "        plt.plot(epochs_array, nn.acc_test_array, \"-g\", label = f\"Test: {hidden_layers} layers.\")\n",
    "    if nn.sizes[1] == 20:\n",
    "        plt.plot(epochs_array, nn.acc_test_array, \"-b\", label = f\"Test: {hidden_layers} layers.\")\n",
    "\n",
    "\n",
    "ax.legend(loc=\"lower right\", fontsize=16)\n",
    "ax.set_xlabel(\"epochs\", fontsize=16)\n",
    "ax.set_ylabel(\"accuracy\", fontsize=16)\n",
    "plt.show()"
   ]
  },
  {
   "attachments": {},
   "cell_type": "markdown",
   "metadata": {
    "deletable": false,
    "editable": false,
    "nbgrader": {
     "cell_type": "markdown",
     "checksum": "9cdbb2067c8b35fc50d7701498c5a636",
     "grade": false,
     "grade_id": "cell-ce9008bef635107d",
     "locked": true,
     "schema_version": 3,
     "solution": false,
     "task": false
    }
   },
   "source": [
    "Give your explanation below."
   ]
  },
  {
   "attachments": {},
   "cell_type": "markdown",
   "metadata": {
    "deletable": false,
    "nbgrader": {
     "cell_type": "markdown",
     "checksum": "dd36ca1bb36eb7f7132e0538a571aac0",
     "grade": true,
     "grade_id": "cell-fb5c5d0fd9a6d900",
     "locked": false,
     "points": 5,
     "schema_version": 3,
     "solution": true,
     "task": false
    }
   },
   "source": [
    "**[ANSWER]** In the plot we can clearly see the effect of adding hidden layers to the neural network, making possible the increase in both the training and testing accuracy. We also see that after certain point (20 epochs) the increase in the accuracy is slower and then plateaus. In general we can say that more layers will give us a more accurate network but it will also cost us more, computationally speaking. On the other hand, the addition of layers will not be significant in terms of the network's performance if we do not take care of having good training data (good in quality and quantity).\n",
    "\n",
    "Finally, it is important to point out that (according to the Universal Approximation Theorem) neural networks with one hidden layer can approximate any continuous function for inputs within a specific range, therefore adding too much layers (depending on the case) could lead us to a neural network overfitting. Certainly more layers will increase the learning speed for a given neural network but it can also be the source of issues when training the network."
   ]
  },
  {
   "attachments": {},
   "cell_type": "markdown",
   "metadata": {
    "deletable": false,
    "editable": false,
    "nbgrader": {
     "cell_type": "markdown",
     "checksum": "73f8da6f58fb749773965cbd6f1eab6f",
     "grade": false,
     "grade_id": "cell-65d25b85ad55bfe6",
     "locked": true,
     "schema_version": 3,
     "solution": false,
     "task": false
    }
   },
   "source": [
    "## [14 points] Problem 4 - Tensors and Autograd.\n",
    "In this problem, we will demonstrate the benefits of PyTorch's Autograd mechanics by converting your implementation from Problem to utilize PyTorch Tensors. This problem is not meant to be difficult, rather it should be quite simple once you've done Problem 3.\n",
    "\n",
    "Note that there are *better* ways to go about this which we will cover next. Here. we are keeping things as close to numpy as possible on purpose to show what's going on behind the scenes. Take a moment to look through our modifications to get an understanding of the differences. In the comments, we'll make notes of native torch functions that perform the same operations. \n",
    "\n",
    "Here, SGD is implemented manually to show you what's going on behind the scenes, but  usually you'd use [`torch.optim.SGD`](https://pytorch.org/docs/stable/optim.html#torch.optim.SGD). For future reference, the `weight_decay` parameter implements L2 normilazion. \n",
    "\n",
    "--- \n",
    "\n",
    "Before we move forward, let's cover a couple of points on notation. \n",
    "\n",
    "Just as it's best practice to do `import numpy as np`, PyTorch has best practices for imports as well:\n",
    "\n",
    "```python\n",
    "import torch \n",
    "import torch.nn as nn\n",
    "import torch.nn.functional as F\n",
    "```\n",
    "You'll find that many of the functions you've been learning in NumPy have direct translations in PyTorch. The documentation can be found [here](https://pytorch.org/docs/stable/index.html) and is very user friendly, but we'll cover a few notable differences. \n",
    "\n",
    "- The numpy parameter `axis` becomes `dim` in PyTorch.\n",
    "- Tensors have [view](https://pytorch.org/docs/stable/tensor_view.html) operations, which avoid copying data unnecasarily. Use these instead of `reshape()`. \n",
    "- Using `torch.from_numpy()` also avoids copying data stored in `numpy` arrays.\n",
    "- Numpy interprets `np.dot()` of 2D matrices as matrix multiplication. Pytorch does not have this behaviour, see instead [`torch.matmul()`](https://pytorch.org/docs/stable/generated/torch.matmul.html?highlight=matmul#torch.matmul)\n",
    "- PyTorch uses trailing underscores such as `torch.add_()` to denote in-place operations. As an example, the following operations are equivilent:\n",
    "```python\n",
    "x = x + y\n",
    "x = torch.add(x, y)\n",
    "x.add_(y)\n",
    "```\n",
    "You're likely to see these operations when randomly initializing Tensors, or filling a tensor with zeros:\n",
    "```python\n",
    "torch.nn.init.uniform_(x)\n",
    "x.zero_()\n",
    "```\n",
    "\n",
    "---\n",
    "Now onto the problem, your tasks are as follows:\n",
    "\n",
    "1. Modify `forward_prop` to work on PyTorch Tensors.\n",
    "2. Modify `SGD_step` to work on PyTorch Tensors. This is easier than it sounds, since with PyTorch we don't have to worry about calculating gradients manually."
   ]
  },
  {
   "cell_type": "code",
   "execution_count": 21,
   "metadata": {
    "deletable": false,
    "nbgrader": {
     "cell_type": "code",
     "checksum": "094d28d461ce1b8f522ade5687aa23ed",
     "grade": false,
     "grade_id": "cell-f503b4357e8d35fc",
     "locked": false,
     "schema_version": 3,
     "solution": true,
     "task": false
    }
   },
   "outputs": [],
   "source": [
    "import torch\n",
    "\n",
    "\n",
    "class TorchNetwork(Network):\n",
    "    def __init__(self, sizes, keep_prob=-1):\n",
    "        super().__init__(sizes)\n",
    "        \n",
    "        # Convert your weights and biases to Tensors.\n",
    "        # The flag requires_grad=True tells PyTorch to track gradients for us. \n",
    "        self.biases = [torch.tensor(b, requires_grad=True) for b in self.biases]\n",
    "        self.weights = [torch.tensor(w, requires_grad=True) for w in self.weights]\n",
    "        \n",
    "\n",
    "    def g(self, z):\n",
    "        \"\"\" Activation function\n",
    "            Could also use torch.sigmoid(z)\n",
    "        \"\"\"\n",
    "        return sigmoid_torch(z) \n",
    "\n",
    "    def forward_prop(self, a):\n",
    "        \"\"\" Memory aware forward propagation. \n",
    "            Now this is for both training and testing.\n",
    "        \"\"\"\n",
    "        # TODO: Convert your forward_prop function from part a to work on Tensors. \n",
    "        \n",
    "        for W,b in zip(self.weights, self.biases):\n",
    "            z= torch.matmul(W, a) + b\n",
    "            a = self.g(z)\n",
    "\n",
    "        return a\n",
    "\n",
    "    def cost(self, a, y):\n",
    "        \"\"\" Cost function, same as F.mse_loss()\n",
    "        \"\"\"\n",
    "        return ((a - y)**2).mean() \n",
    "            \n",
    "\n",
    "    def SGD_step(self, x, y, eta, lam):\n",
    "        \"\"\"\n",
    "            Performs a single step of SGD on weights and biases\n",
    "\n",
    "        Args:\n",
    "            x: single sample features.\n",
    "            y: single sample target.\n",
    "            eta: learning rate.\n",
    "            lam: Regularization parameter.  \n",
    "        \"\"\"\n",
    "        \n",
    "        # Zero out the old gradients if they exist. \n",
    "        # Would be optim.zero_grad() if we were using an optimizer.\n",
    "        for p in (*self.weights, *self.biases):\n",
    "            if p.grad is not None:\n",
    "                p.grad.detach_()\n",
    "                p.grad.zero_()\n",
    "            \n",
    "        # TODO: \n",
    "\n",
    "        # (1) Call forward_prop to get a.\n",
    "        a = self.forward_prop(x)\n",
    "        # (2) Calculate loss using the cost function.\n",
    "        loss = self.cost(a,y)\n",
    "        # (3) Use loss.backward() to to perform backpropagation automatically.\n",
    "        loss.backward()\n",
    "\n",
    "        # Perform sgd update \n",
    "        # Would be optimizer.step()\n",
    "        with torch.no_grad():\n",
    "            # l2 regularization on weights only.\n",
    "            for p in self.weights:\n",
    "                p.grad.add_(p, alpha=lam)\n",
    "            # sgd update. \n",
    "            for p in (*self.weights, *self.biases):\n",
    "                p.add_(p.grad, alpha=-eta)\n",
    "                \n",
    "\n",
    "def sigmoid_torch(z, threshold=20):\n",
    "    \"\"\" Same as sigmoid before, now with torch.clamp() instead of np.clip().\n",
    "        We could also just use torch.sigmoid().\n",
    "    \"\"\"\n",
    "    z = torch.clamp(z, -threshold, threshold)\n",
    "    return 1.0 / (1.0 + torch.exp(-z))\n"
   ]
  },
  {
   "attachments": {},
   "cell_type": "markdown",
   "metadata": {
    "deletable": false,
    "editable": false,
    "nbgrader": {
     "cell_type": "markdown",
     "checksum": "66be78ccf7c4e1c78e4ab8df46134c5f",
     "grade": false,
     "grade_id": "cell-6227665a74ae9306",
     "locked": true,
     "schema_version": 3,
     "solution": false,
     "task": false
    }
   },
   "source": [
    "**Part 1 [14 points]:** Implement `SGD_step` and `forward_prop`. Use the following test cases to verify if the code is working as expected."
   ]
  },
  {
   "cell_type": "code",
   "execution_count": 22,
   "metadata": {
    "deletable": false,
    "editable": false,
    "nbgrader": {
     "cell_type": "code",
     "checksum": "5c694380b970eb4c33e9d5f8d7f703ea",
     "grade": true,
     "grade_id": "cell-9b1a944152b5097c",
     "locked": true,
     "points": 14,
     "schema_version": 3,
     "solution": false,
     "task": false
    }
   },
   "outputs": [
    {
     "name": "stderr",
     "output_type": "stream",
     "text": [
      "TestBackPropWithoutRegularization (tests.tests.TestNetwork) ... ok\n",
      "TestBackPropWithRegularization (tests.tests.TestNetwork) ... ok\n",
      "\n",
      "----------------------------------------------------------------------\n",
      "Ran 2 tests in 0.744s\n",
      "\n",
      "OK\n"
     ]
    }
   ],
   "source": [
    "from tests import tests\n",
    "tests.run_test_suite('new prob 4', TorchNetwork)"
   ]
  }
 ],
 "metadata": {
  "interpreter": {
   "hash": "aee8b7b246df8f9039afb4144a1f6fd8d2ca17a180786b69acc140d282b71a49"
  },
  "kernelspec": {
   "display_name": "Python 3.9.10 64-bit",
   "language": "python",
   "name": "python3"
  },
  "language_info": {
   "codemirror_mode": {
    "name": "ipython",
    "version": 3
   },
   "file_extension": ".py",
   "mimetype": "text/x-python",
   "name": "python",
   "nbconvert_exporter": "python",
   "pygments_lexer": "ipython3",
   "version": "3.9.10"
  },
  "toc": {
   "base_numbering": 1,
   "nav_menu": {},
   "number_sections": false,
   "sideBar": true,
   "skip_h1_title": true,
   "title_cell": "Table of Contents",
   "title_sidebar": "Contents",
   "toc_cell": false,
   "toc_position": {
    "height": "calc(100% - 180px)",
    "left": "10px",
    "top": "150px",
    "width": "340px"
   },
   "toc_section_display": true,
   "toc_window_display": true
  }
 },
 "nbformat": 4,
 "nbformat_minor": 2
}
